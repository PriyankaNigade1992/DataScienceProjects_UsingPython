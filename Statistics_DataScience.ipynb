{
 "cells": [
  {
   "cell_type": "markdown",
   "id": "5f6ca96b",
   "metadata": {},
   "source": [
    "### CS 676 Algorithms for Data Science \n",
    "### Homework 1: Statistical Parameters\n"
   ]
  },
  {
   "cell_type": "markdown",
   "id": "eeb59163",
   "metadata": {},
   "source": [
    "#### Consider the following three data sets for questions Q 1 ∼ Q 20.\n",
    "#### X = {3,1,2,3,1,4,3,3},   Y = {1,4,3,1,1,3},   Z = {3,3,1,4,2,1,4,2}"
   ]
  },
  {
   "cell_type": "code",
   "execution_count": 416,
   "id": "e6bbb6bf",
   "metadata": {},
   "outputs": [],
   "source": [
    "import  pandas as pd\n",
    "from statistics import mean, median, mode, stdev, variance, pvariance, pstdev, harmonic_mean\n",
    "from collections import Counter\n",
    "import math\n",
    "import numpy as np\n",
    "from scipy.stats import skew, gmean"
   ]
  },
  {
   "cell_type": "code",
   "execution_count": 11,
   "id": "2d71ab73",
   "metadata": {},
   "outputs": [],
   "source": [
    "X = [3,1,2,3,1,4,3,3]\n",
    "Y = [1,4,3,1,1,3]\n",
    "Z = [3,3,1,4,2,1,4,2]"
   ]
  },
  {
   "cell_type": "markdown",
   "id": "0b4d7c7a",
   "metadata": {},
   "source": [
    "#### Q 1. Write a code for the mean and find the following values: μ(X), μ(Y ), μ(Z )"
   ]
  },
  {
   "cell_type": "code",
   "execution_count": 485,
   "id": "99fd8faa",
   "metadata": {},
   "outputs": [],
   "source": [
    "# Function to find mean\n",
    "\n",
    "def calculate_mean(number_set):\n",
    "    # Get number of element of list\n",
    "    elememt_count = len(number_set) \n",
    "    # Get sume of element of list\n",
    "    element_sum = sum(number_set)\n",
    "    #sume of element of list / number of element of list\n",
    "    cal_mean = element_sum / elememt_count\n",
    "    print(\"Mean by calculation is: \"+ str(cal_mean))\n",
    "    print(\"Mean by using standard built in function is: \", round(mean(number_set), 2))\n",
    "    # return cal_mean \n",
    "    "
   ]
  },
  {
   "cell_type": "code",
   "execution_count": 486,
   "id": "b24314e0",
   "metadata": {},
   "outputs": [
    {
     "name": "stdout",
     "output_type": "stream",
     "text": [
      "Mean by calculation is: 2.5\n",
      "Mean by using standard built in function is:  2.5\n"
     ]
    }
   ],
   "source": [
    "# Get value of μ(X)\n",
    "calculate_mean(X)"
   ]
  },
  {
   "cell_type": "code",
   "execution_count": 487,
   "id": "587c7144",
   "metadata": {},
   "outputs": [
    {
     "name": "stdout",
     "output_type": "stream",
     "text": [
      "Mean by calculation is: 2.1666666666666665\n",
      "Mean by using standard built in function is:  2.17\n"
     ]
    }
   ],
   "source": [
    "# Get value of μ(Y)\n",
    "calculate_mean(Y)"
   ]
  },
  {
   "cell_type": "code",
   "execution_count": 488,
   "id": "0fcf2d4e",
   "metadata": {},
   "outputs": [
    {
     "name": "stdout",
     "output_type": "stream",
     "text": [
      "Mean by calculation is: 2.5\n",
      "Mean by using standard built in function is:  2.5\n"
     ]
    }
   ],
   "source": [
    "# Get value of μ(Z)\n",
    "calculate_mean(Z)"
   ]
  },
  {
   "cell_type": "markdown",
   "id": "c871a0ce",
   "metadata": {},
   "source": [
    "#### Q 2. Write a code for the median and find the following values: μd(X), μd(Y ), μd(Z )"
   ]
  },
  {
   "cell_type": "code",
   "execution_count": 489,
   "id": "b06498cf",
   "metadata": {},
   "outputs": [],
   "source": [
    "# Function to find median\n",
    "\n",
    "def calculate_median(number_list):\n",
    "\n",
    "    elememt_count = len(number_list)\n",
    "    number_list.sort()\n",
    "    \n",
    "    if elememt_count % 2 == 0:\n",
    "        # for even no. of elements\n",
    "        #find first median\n",
    "        first_median = number_list[elememt_count//2]\n",
    "        #find second median\n",
    "        second_median = number_list[elememt_count//2 - 1]\n",
    "        \n",
    "        cal_median = (first_median + second_median)/2\n",
    "    else:\n",
    "        # for odd no. of elements\n",
    "        cal_median = number_list[elememt_count//2]\n",
    "        \n",
    "    print(\"Median by calculation is: \" + str(cal_median))\n",
    "    print(\"Median by using standard built in function is: \", round(median(number_list), 2))"
   ]
  },
  {
   "cell_type": "code",
   "execution_count": 490,
   "id": "5153f577",
   "metadata": {},
   "outputs": [
    {
     "name": "stdout",
     "output_type": "stream",
     "text": [
      "Median by calculation is: 3.0\n",
      "Median by using standard built in function is:  3.0\n"
     ]
    }
   ],
   "source": [
    "# Find value - μd(X)\n",
    "calculate_median(X)"
   ]
  },
  {
   "cell_type": "code",
   "execution_count": 491,
   "id": "40184849",
   "metadata": {},
   "outputs": [
    {
     "name": "stdout",
     "output_type": "stream",
     "text": [
      "Median by calculation is: 2.0\n",
      "Median by using standard built in function is:  2.0\n"
     ]
    }
   ],
   "source": [
    "# Find value - μd(Y)\n",
    "calculate_median(Y)"
   ]
  },
  {
   "cell_type": "code",
   "execution_count": 492,
   "id": "f868b8c1",
   "metadata": {},
   "outputs": [
    {
     "name": "stdout",
     "output_type": "stream",
     "text": [
      "Median by calculation is: 2.5\n",
      "Median by using standard built in function is:  2.5\n"
     ]
    }
   ],
   "source": [
    "# Find value - μd(Z)\n",
    "calculate_median(Z)"
   ]
  },
  {
   "cell_type": "markdown",
   "id": "b68d99ba",
   "metadata": {},
   "source": [
    "#### Q 3. Write a code for the mode and find the following values: μo(X), μo(Y ), μo(Z )"
   ]
  },
  {
   "cell_type": "code",
   "execution_count": 499,
   "id": "5c1d190d",
   "metadata": {},
   "outputs": [],
   "source": [
    "# Function to find mode\n",
    "\n",
    "def calculate_mode(number_list):\n",
    "\n",
    "    elememt_count = len(number_list)\n",
    "    \n",
    "    # calculate the no of occurances of each item\n",
    "    data = Counter(number_list)\n",
    "    data_list = dict(data)\n",
    "\n",
    "    # Print the items with no of occurances\n",
    "    print(data_list)\n",
    "\n",
    "    # Find the highest no of occurances\n",
    "    max_value = max(list(data.values()))\n",
    "    mode_val = [num for num, freq in data_list.items() if freq == max_value]\n",
    "    if len(mode_val) == elememt_count:\n",
    "        print(\"No mode found\")\n",
    "    else:\n",
    "       print(\"The Mode of the list is : \" + ', '.join(map(str, mode_val)))\n",
    "    \n",
    "    # Printing out mode of given data-set\n",
    "    print(\"Mode of given data set is using build in library function is % s\" % (mode(number_list)))\n",
    "    \n",
    "    \n",
    "    "
   ]
  },
  {
   "cell_type": "code",
   "execution_count": 500,
   "id": "edea51d6",
   "metadata": {},
   "outputs": [
    {
     "name": "stdout",
     "output_type": "stream",
     "text": [
      "{1: 2, 2: 1, 3: 4, 4: 1}\n",
      "The Mode of the list is : 3\n",
      "Mode of given data set is using build in library function is 3\n"
     ]
    }
   ],
   "source": [
    "# Find value - μo(X)\n",
    "calculate_mode(X)"
   ]
  },
  {
   "cell_type": "code",
   "execution_count": 501,
   "id": "1e00f94d",
   "metadata": {},
   "outputs": [
    {
     "name": "stdout",
     "output_type": "stream",
     "text": [
      "{1: 3, 3: 2, 4: 1}\n",
      "The Mode of the list is : 1\n",
      "Mode of given data set is using build in library function is 1\n"
     ]
    }
   ],
   "source": [
    "# Find value - μo(Y)\n",
    "calculate_mode(Y)"
   ]
  },
  {
   "cell_type": "code",
   "execution_count": 504,
   "id": "b9f1383e",
   "metadata": {},
   "outputs": [
    {
     "name": "stdout",
     "output_type": "stream",
     "text": [
      "{1: 2, 2: 2, 3: 2, 4: 2}\n",
      "The Mode of the list is : 1, 2, 3, 4\n",
      "Mode of given data set is using build in library function is 1\n"
     ]
    }
   ],
   "source": [
    "# Find value - μo(Z)\n",
    "calculate_mode(Z)"
   ]
  },
  {
   "cell_type": "markdown",
   "id": "2fc5627c",
   "metadata": {},
   "source": [
    "#### Q 4. Write a code for the variance and find the following values: \n",
    "#### σ2(X), σ2(Y ), σ2(Z ) \n",
    "#### s2(X), s2(Y ), s2(Z )"
   ]
  },
  {
   "cell_type": "code",
   "execution_count": 508,
   "id": "99b4af7e",
   "metadata": {},
   "outputs": [],
   "source": [
    "def calculate_variance_pvariance(number_list):\n",
    "  \n",
    "    # Given list\n",
    "    # print(\"Given list is : \" + str(number_list))\n",
    "  \n",
    "    # Variance of List\n",
    "    # Get the mean \n",
    "    # meam = calculate_mean(number_list)\n",
    "    mean = sum(number_list) / len(number_list)\n",
    "    # calculate the pvariance\n",
    "    dev_sum = sum((i - mean) ** 2 for i in number_list)\n",
    "    result =  dev_sum / len(number_list)\n",
    "    # calculate the svariance\n",
    "    s_result = dev_sum / (len(number_list) - 1)\n",
    "    \n",
    "    # printing result\n",
    "    print(\"The pvariance of list is σ2: \" + str(result))\n",
    "    print(\"The svariance of list is S2: \" + str(s_result))\n",
    "\n",
    "    # population Variance of List\n",
    "    pvar = pvariance(number_list)\n",
    "    # Sample Variance of List\n",
    "    svar = variance(number_list)\n",
    "  \n",
    "    print(\"The population variance of list using pvariance function is σ2: \" + str(pvar))\n",
    "    print(\"The sample variance of list using variance function is s2: \" + str(svar))    "
   ]
  },
  {
   "cell_type": "code",
   "execution_count": 509,
   "id": "e29a4942",
   "metadata": {},
   "outputs": [
    {
     "name": "stdout",
     "output_type": "stream",
     "text": [
      "The pvariance of list is σ2: 1.0\n",
      "The svariance of list is S2: 1.1428571428571428\n",
      "The population variance of list using pvariance function is σ2: 1.0\n",
      "The sample variance of list using variance function is s2: 1.1428571428571428\n"
     ]
    }
   ],
   "source": [
    "# Find variance - σ2(X) & S2(X)\n",
    "calculate_variance_pvariance(X)"
   ]
  },
  {
   "cell_type": "code",
   "execution_count": 510,
   "id": "2bf910f7",
   "metadata": {},
   "outputs": [
    {
     "name": "stdout",
     "output_type": "stream",
     "text": [
      "The pvariance of list is σ2: 1.472222222222222\n",
      "The svariance of list is S2: 1.7666666666666664\n",
      "The population variance of list using pvariance function is σ2: 1.472222222222222\n",
      "The sample variance of list using variance function is s2: 1.7666666666666666\n"
     ]
    }
   ],
   "source": [
    "# Find variance - σ2(Y) & S2(Y)\n",
    "calculate_variance_pvariance(Y)"
   ]
  },
  {
   "cell_type": "code",
   "execution_count": 511,
   "id": "5221a0cf",
   "metadata": {},
   "outputs": [
    {
     "name": "stdout",
     "output_type": "stream",
     "text": [
      "The pvariance of list is σ2: 1.25\n",
      "The svariance of list is S2: 1.4285714285714286\n",
      "The population variance of list using pvariance function is σ2: 1.25\n",
      "The sample variance of list using variance function is s2: 1.4285714285714286\n"
     ]
    }
   ],
   "source": [
    "# Find variance - σ2(Z) & S2(Z)\n",
    "calculate_variance_pvariance(Z)"
   ]
  },
  {
   "cell_type": "markdown",
   "id": "58af9f3c",
   "metadata": {},
   "source": [
    "#### Q 5. Write a code for the standard deviation and find the following values:\n",
    "#### σ(X), σ(Y ), σ(Z)\n",
    "#### s(X), s(Y ), s(Z) "
   ]
  },
  {
   "cell_type": "code",
   "execution_count": 514,
   "id": "9728044a",
   "metadata": {},
   "outputs": [],
   "source": [
    "def calculate_stdev_pstdev(number_list):\n",
    "  \n",
    "    # Variance of List\n",
    "    # Get the pvariance of data\n",
    "    pvar = pvariance(number_list)\n",
    "    pstd_dev = math.sqrt(pvar)\n",
    "    \n",
    "    # Get the sample of data\n",
    "    svar = variance(number_list)\n",
    "    std_dev = math.sqrt(svar)\n",
    "    \n",
    "    # printing result\n",
    "    print(\"The pstdev of list is σ: \" + str(pstd_dev))\n",
    "    print(\"The svariance of list is S: \" + str(std_dev))\n",
    "\n",
    "    # population Variance of List\n",
    "    pdev = pstdev(number_list)\n",
    "    # Sample Variance of List\n",
    "    sdev = stdev(number_list)\n",
    "  \n",
    "    # printing result\n",
    "    print(\"The population variance of list using pstdev function is σ: \" + str(pdev))\n",
    "    print(\"The sample variance of list using stdev function is S: \" + str(sdev))    "
   ]
  },
  {
   "cell_type": "code",
   "execution_count": 515,
   "id": "0a2d1714",
   "metadata": {},
   "outputs": [
    {
     "name": "stdout",
     "output_type": "stream",
     "text": [
      "The pstdev of list is σ: 1.0\n",
      "The svariance of list is S: 1.0690449676496976\n",
      "The population variance of list using pstdev function is σ: 1.0\n",
      "The sample variance of list using stdev function is S: 1.0690449676496976\n"
     ]
    }
   ],
   "source": [
    "# Find standard deviation - σ(X) & S(X)\n",
    "calculate_stdev_pstdev(X)"
   ]
  },
  {
   "cell_type": "code",
   "execution_count": 516,
   "id": "57a2e73a",
   "metadata": {},
   "outputs": [
    {
     "name": "stdout",
     "output_type": "stream",
     "text": [
      "The pstdev of list is σ: 1.2133516482134197\n",
      "The svariance of list is S: 1.3291601358251257\n",
      "The population variance of list using pstdev function is σ: 1.2133516482134197\n",
      "The sample variance of list using stdev function is S: 1.3291601358251257\n"
     ]
    }
   ],
   "source": [
    "# Find standard deviation - σ(Y) & S(Y)\n",
    "calculate_stdev_pstdev(Y)"
   ]
  },
  {
   "cell_type": "code",
   "execution_count": 517,
   "id": "00aa256d",
   "metadata": {},
   "outputs": [
    {
     "name": "stdout",
     "output_type": "stream",
     "text": [
      "The pstdev of list is σ: 1.118033988749895\n",
      "The svariance of list is S: 1.1952286093343936\n",
      "The population variance of list using pstdev function is σ: 1.118033988749895\n",
      "The sample variance of list using stdev function is S: 1.1952286093343936\n"
     ]
    }
   ],
   "source": [
    "# Find standard deviation - σ(Z) & S(Z)\n",
    "calculate_stdev_pstdev(Z)"
   ]
  },
  {
   "cell_type": "markdown",
   "id": "761239d1",
   "metadata": {},
   "source": [
    "#### Q 6. Write a code for the MAD around mean, μ and find the following values:\n",
    "#### δ(X) , δ(Y ), δ(Z) "
   ]
  },
  {
   "cell_type": "code",
   "execution_count": 518,
   "id": "7f9ebd5b",
   "metadata": {},
   "outputs": [],
   "source": [
    "def calculate_mad_aroundmean(number_list):\n",
    "    \n",
    "    cal_mean = mean(number_list)\n",
    "    \n",
    "    #sum_res = sum(np.absolute((i - cal_mean)) for i in number_list)\n",
    "    #result =  sum_res / len(number_list)\n",
    "    \n",
    "    sum =0\n",
    "    for i in range(len(number_list)):\n",
    "        dev = np.absolute(number_list[i] - cal_mean)\n",
    "        sum = sum + round(dev,2)\n",
    "    print(\"The MAD around mean of list is δ: \", sum/len(number_list))\n",
    "\n",
    "    # creating series\n",
    "    series = pd.Series(number_list)\n",
    "  \n",
    "    # calling inbuilt .mad() method\n",
    "    result1 = series.mad()\n",
    "    \n",
    "    print(\"The MAD around mean of list using library function is δ: \" + str(result1))    "
   ]
  },
  {
   "cell_type": "code",
   "execution_count": 519,
   "id": "e3cdb803",
   "metadata": {},
   "outputs": [
    {
     "name": "stdout",
     "output_type": "stream",
     "text": [
      "The MAD around mean of list is δ:  0.875\n",
      "The MAD around mean of list using library function is δ: 0.875\n"
     ]
    }
   ],
   "source": [
    "# Find MAD around mean - δ(X) \n",
    "calculate_mad_aroundmean(X)"
   ]
  },
  {
   "cell_type": "code",
   "execution_count": 520,
   "id": "9f624a77",
   "metadata": {},
   "outputs": [
    {
     "name": "stdout",
     "output_type": "stream",
     "text": [
      "The MAD around mean of list is δ:  1.1666666666666667\n",
      "The MAD around mean of list using library function is δ: 1.1666666666666667\n"
     ]
    }
   ],
   "source": [
    "# Find MAD around mean - δ(Y) \n",
    "calculate_mad_aroundmean(Y)"
   ]
  },
  {
   "cell_type": "code",
   "execution_count": 521,
   "id": "53334775",
   "metadata": {},
   "outputs": [
    {
     "name": "stdout",
     "output_type": "stream",
     "text": [
      "The MAD around mean of list is δ:  1.0\n",
      "The MAD around mean of list using library function is δ: 1.0\n"
     ]
    }
   ],
   "source": [
    "# Find MAD around mean - δ(Z) \n",
    "calculate_mad_aroundmean(Z)"
   ]
  },
  {
   "cell_type": "markdown",
   "id": "9c79c37a",
   "metadata": {},
   "source": [
    "#### Q 7. Write a code for the MAD around median, μd and find the following values:\n",
    "#### δd(X), δd(Y ), δd(Z) "
   ]
  },
  {
   "cell_type": "code",
   "execution_count": 527,
   "id": "f753c461",
   "metadata": {},
   "outputs": [],
   "source": [
    "def calculate_mad_aroundmedian(number_list):\n",
    "    \n",
    "    #get the median of list\n",
    "    cal_median = median(number_list)\n",
    "   \n",
    "    sum =0\n",
    "    for i in range(len(number_list)):\n",
    "        dev = np.absolute(number_list[i] - cal_median)\n",
    "        sum = sum + round(dev,2)\n",
    "    print(\"The MAD around median of list is δd: \", round(sum/len(number_list),2))\n",
    "\n",
    "    "
   ]
  },
  {
   "cell_type": "code",
   "execution_count": 528,
   "id": "c49b6d21",
   "metadata": {},
   "outputs": [
    {
     "name": "stdout",
     "output_type": "stream",
     "text": [
      "The MAD around median of list is δd:  0.75\n"
     ]
    }
   ],
   "source": [
    "# Find MAD around median - δd(X) \n",
    "calculate_mad_aroundmedian(X)"
   ]
  },
  {
   "cell_type": "code",
   "execution_count": 529,
   "id": "96578dab",
   "metadata": {},
   "outputs": [
    {
     "name": "stdout",
     "output_type": "stream",
     "text": [
      "The MAD around median of list is δd:  1.17\n"
     ]
    }
   ],
   "source": [
    "# Find MAD around median - δd(Y) \n",
    "calculate_mad_aroundmedian(Y)"
   ]
  },
  {
   "cell_type": "code",
   "execution_count": 530,
   "id": "4658464e",
   "metadata": {},
   "outputs": [
    {
     "name": "stdout",
     "output_type": "stream",
     "text": [
      "The MAD around median of list is δd:  1.0\n"
     ]
    }
   ],
   "source": [
    "# Find MAD around median - δd(Z) \n",
    "calculate_mad_aroundmedian(Z)"
   ]
  },
  {
   "cell_type": "markdown",
   "id": "bf6843d7",
   "metadata": {},
   "source": [
    "#### Q 8. Write a code for the MAD around mode, μo and find the following values:\n",
    "#### δo(X), δo(Y ), δo(Z) "
   ]
  },
  {
   "cell_type": "code",
   "execution_count": 536,
   "id": "b3979138",
   "metadata": {},
   "outputs": [],
   "source": [
    "def calculate_mad_aroundmode(number_list):\n",
    "    \n",
    "    #get the median of list\n",
    "    cal_mode = mode(number_list)\n",
    "   \n",
    "    sum =0\n",
    "    for i in range(len(number_list)):\n",
    "        # Get the absolute value\n",
    "        dev = np.absolute(number_list[i] - cal_mode)\n",
    "        sum = sum + round(dev,2)\n",
    "    print(\"The MAD around median of list is δo: \", round(sum/len(number_list),2))\n",
    "    "
   ]
  },
  {
   "cell_type": "code",
   "execution_count": 537,
   "id": "482cb2c4",
   "metadata": {},
   "outputs": [
    {
     "name": "stdout",
     "output_type": "stream",
     "text": [
      "The MAD around median of list is δo:  0.75\n"
     ]
    }
   ],
   "source": [
    "# Find MAD around mode - δo(X) \n",
    "calculate_mad_aroundmode(X)"
   ]
  },
  {
   "cell_type": "code",
   "execution_count": 538,
   "id": "5e67bcdb",
   "metadata": {},
   "outputs": [
    {
     "name": "stdout",
     "output_type": "stream",
     "text": [
      "The MAD around median of list is δo:  1.17\n"
     ]
    }
   ],
   "source": [
    "# Find MAD around mode - δo(Y) \n",
    "calculate_mad_aroundmode(Y)"
   ]
  },
  {
   "cell_type": "code",
   "execution_count": 539,
   "id": "2d64eb9f",
   "metadata": {},
   "outputs": [
    {
     "name": "stdout",
     "output_type": "stream",
     "text": [
      "The MAD around median of list is δo:  1.5\n"
     ]
    }
   ],
   "source": [
    "# Find MAD around mode - δo(Z) \n",
    "calculate_mad_aroundmode(Z)"
   ]
  },
  {
   "cell_type": "markdown",
   "id": "76d0c853",
   "metadata": {},
   "source": [
    "#### Q 9. Write a code for the generallized MPAD, the mean of pth power absolute deviation which takes p and center point as inputs: MPAD(X, p, μx). Find the following values:\n",
    "#### MPAD(X,2,μd), MPAD(Y,2,μd), MPAD(Z,2,μd)\n",
    "#### MPAD(X, 3, μ), MPAD(Y, 3, μ), MPAD(Z, 3, μ)"
   ]
  },
  {
   "cell_type": "code",
   "execution_count": 543,
   "id": "9eba4e5e",
   "metadata": {},
   "outputs": [],
   "source": [
    "def get_powersum(lst, value, power):\n",
    "    sum =0\n",
    "    for i in range(len(lst)):\n",
    "        dev = np.absolute(lst[i] - value)\n",
    "        sum = (sum + round(dev,2))** power\n",
    "    return sum"
   ]
  },
  {
   "cell_type": "code",
   "execution_count": 586,
   "id": "d1bab97b",
   "metadata": {},
   "outputs": [],
   "source": [
    "# pass median to calculate MPAD median(μd) and mean for mean operation(μ)\n",
    "def calculate_mpad_median_mean(number_list, power, operation):\n",
    "    \n",
    "    #get the mean and median of list\n",
    "    cal_median = median(number_list)\n",
    "    cal_mean = mean(number_list)\n",
    "   \n",
    "   \n",
    "    if operation == 'median':\n",
    "        result = get_powersum(number_list, cal_median, power)\n",
    "    elif operation == 'mean':\n",
    "        result = get_powersum(number_list, cal_mean, power)\n",
    "    else:\n",
    "        print('Please enter either mean or median as operation choice')\n",
    "        return \n",
    "    print('The MPAD {} of list is {}'.format(operation, result/len(number_list)))\n"
   ]
  },
  {
   "cell_type": "code",
   "execution_count": 554,
   "id": "ac81f302",
   "metadata": {},
   "outputs": [
    {
     "name": "stdout",
     "output_type": "stream",
     "text": [
      "The MPAD median of list is 2.8961453440886216e+99\n"
     ]
    }
   ],
   "source": [
    "# Find value - MPAD(X,2,μd)\n",
    "calculate_mpad_median_mean(X, 2, 'median')"
   ]
  },
  {
   "cell_type": "code",
   "execution_count": 555,
   "id": "22a93d7a",
   "metadata": {},
   "outputs": [
    {
     "name": "stdout",
     "output_type": "stream",
     "text": [
      "The MPAD median of list is 1805468994908004.2\n"
     ]
    }
   ],
   "source": [
    "# Find value - MPAD(Y,2,μd)\n",
    "Y = [1,4,3,1,1,3]\n",
    "calculate_mpad_median_mean(Y, 2, 'median')"
   ]
  },
  {
   "cell_type": "code",
   "execution_count": 565,
   "id": "8e2f971c",
   "metadata": {},
   "outputs": [
    {
     "name": "stdout",
     "output_type": "stream",
     "text": [
      "The MPAD median of list is 3.774114509545115e+73\n"
     ]
    }
   ],
   "source": [
    "# Find value - MPAD(Z,2,μd)\n",
    "calculate_mpad_median_mean(Z, 2, 'median')"
   ]
  },
  {
   "cell_type": "code",
   "execution_count": 564,
   "id": "bebe9df5",
   "metadata": {},
   "outputs": [
    {
     "name": "stdout",
     "output_type": "stream",
     "text": [
      "The MPAD mean of list is 3.774114509545115e+73\n"
     ]
    }
   ],
   "source": [
    "# Find value - MPAD(X,3,μ)\n",
    "calculate_mpad_median_mean(X, 2, 'mean')"
   ]
  },
  {
   "cell_type": "code",
   "execution_count": 558,
   "id": "3637906b",
   "metadata": {},
   "outputs": [
    {
     "name": "stdout",
     "output_type": "stream",
     "text": [
      "The MPAD mean of list is 1.1570089778300868e+130\n"
     ]
    }
   ],
   "source": [
    "# Find value - MPAD(Y,3,μ)\n",
    "calculate_mpad_median_mean(Y, 3, 'mean')"
   ]
  },
  {
   "cell_type": "code",
   "execution_count": 587,
   "id": "324f3556",
   "metadata": {},
   "outputs": [
    {
     "name": "stdout",
     "output_type": "stream",
     "text": [
      "The MPAD mean of list is 3.4761339372101065e+201\n"
     ]
    }
   ],
   "source": [
    "# Find value - MPAD(Z,3,μ)\n",
    "calculate_mpad_median_mean(Z, 3, 'mean')\n"
   ]
  },
  {
   "cell_type": "markdown",
   "id": "8e524b61",
   "metadata": {},
   "source": [
    "#### Q 10. Write a code for the interquartile range and find the following values:\n",
    "#### IQR(X), IQR(Y ), IQR(Z) "
   ]
  },
  {
   "cell_type": "code",
   "execution_count": 277,
   "id": "0d344ea4",
   "metadata": {},
   "outputs": [],
   "source": [
    "def find_interquartile_range(data):\n",
    "    #Get first quartile \n",
    "    Q1 = np.quantile(data, 0.25)\n",
    "    #Get third quartile \n",
    "    Q3 = np.quantile(data, 0.75)   \n",
    "    IQR = Q3 - Q1\n",
    "    return IQR\n"
   ]
  },
  {
   "cell_type": "code",
   "execution_count": 278,
   "id": "4fc91c5a",
   "metadata": {},
   "outputs": [
    {
     "name": "stdout",
     "output_type": "stream",
     "text": [
      "Interquartile range of X : 1.25\n"
     ]
    }
   ],
   "source": [
    "# Find value - IQR(X)\n",
    "print('Interquartile range of X :', find_interquartile_range(X))"
   ]
  },
  {
   "cell_type": "code",
   "execution_count": 279,
   "id": "bc955a5a",
   "metadata": {},
   "outputs": [
    {
     "name": "stdout",
     "output_type": "stream",
     "text": [
      "Interquartile range of Y : 2.0\n"
     ]
    }
   ],
   "source": [
    "# Find value - IQR(Y)\n",
    "print('Interquartile range of Y :', find_interquartile_range(Y))"
   ]
  },
  {
   "cell_type": "code",
   "execution_count": 280,
   "id": "f44c97d8",
   "metadata": {},
   "outputs": [
    {
     "name": "stdout",
     "output_type": "stream",
     "text": [
      "Interquartile range of Z : 1.5\n"
     ]
    }
   ],
   "source": [
    "# Find value - IQR(Z)\n",
    "print('Interquartile range of Z :', find_interquartile_range(Z))"
   ]
  },
  {
   "cell_type": "markdown",
   "id": "7dc39ae5",
   "metadata": {},
   "source": [
    "#### Q 11. Write a code for the quartile based skewness and find the following values:\n",
    "#### sq(X),  sq(Y ),  sq(Z) "
   ]
  },
  {
   "cell_type": "code",
   "execution_count": 325,
   "id": "02f94a96",
   "metadata": {},
   "outputs": [],
   "source": [
    "def find_interquartile_based_skew(data):\n",
    "    #Get first quartile = lower quartile\n",
    "    Q1 = np.quantile(data, 0.25)\n",
    "    #Get second quartile \n",
    "    Q2 = np.quantile(data, 0.50)  \n",
    "    #Get third quartile = upper quartile\n",
    "    Q3 = np.quantile(data, 0.75)   \n",
    "\n",
    "    # get skewness using IQR formula\n",
    "    skewQ = (Q3 -2*Q2 + Q1) / (Q3 - Q1);\n",
    "\n",
    "    return skewQ"
   ]
  },
  {
   "cell_type": "code",
   "execution_count": 566,
   "id": "abb2c8db",
   "metadata": {},
   "outputs": [
    {
     "name": "stdout",
     "output_type": "stream",
     "text": [
      "Interquartile based skewness for X : -1.0\n"
     ]
    }
   ],
   "source": [
    "# Find value - sq(X)\n",
    "print('Interquartile based skewness for X :', find_interquartile_based_skew(X))"
   ]
  },
  {
   "cell_type": "code",
   "execution_count": 567,
   "id": "185a521b",
   "metadata": {},
   "outputs": [
    {
     "name": "stdout",
     "output_type": "stream",
     "text": [
      "Interquartile based skewness for Y : 0.0\n"
     ]
    }
   ],
   "source": [
    "# Find value - sq(Y)\n",
    "print('Interquartile based skewness for Y :', find_interquartile_based_skew(Y))"
   ]
  },
  {
   "cell_type": "code",
   "execution_count": 568,
   "id": "75ad7570",
   "metadata": {},
   "outputs": [
    {
     "name": "stdout",
     "output_type": "stream",
     "text": [
      "Interquartile based skewness for Z : 0.0\n"
     ]
    }
   ],
   "source": [
    "# Find value - sq(Z)\n",
    "print('Interquartile based skewness for Z :', find_interquartile_based_skew(Z))"
   ]
  },
  {
   "cell_type": "markdown",
   "id": "c9975a4d",
   "metadata": {},
   "source": [
    "#### Q 12. Write a code for the Pearsons first skewness and find the following values:\n",
    "#### sp1(X),  sp1(Y ), sp1(Z) "
   ]
  },
  {
   "cell_type": "markdown",
   "id": "bd8640b7",
   "metadata": {},
   "source": [
    "Sample problem: Use Pearson’s Coefficient #1 and #2 to find the skewness for data with the following characteristics:\n",
    "<br>\n",
    "Mean = 70.5.<br>\n",
    "Median = 80.<br>\n",
    "Mode = 85.<br>\n",
    "Standard deviation = 19.33.<br>\n",
    "Pearson’s Coefficient of Skewness #1 (Mode):<br>\n",
    "Step 1: Subtract the mode from the mean: 70.5 – 85 = -14.5.<br>\n",
    "Step 2: Divide by the standard deviation: -14.5 / 19.33 = -0.75.<br>"
   ]
  },
  {
   "cell_type": "code",
   "execution_count": 569,
   "id": "1f73b0d8",
   "metadata": {},
   "outputs": [],
   "source": [
    "# function to find Pearsons first skewness \n",
    "def find_pearsons_firstskewness(data):\n",
    "    res_mean = mean(data)\n",
    "    res_median = median(data) \n",
    "    res_mode = mode(data)\n",
    "    res_stdev = stdev(data)\n",
    "    \n",
    "    # step 1\n",
    "    diff_mode_mean = res_mode - res_mean\n",
    "    # step 2\n",
    "    skewness = diff_mode_mean / res_stdev\n",
    "    \n",
    "    # print(skew(data))\n",
    "    return round(skewness,2)"
   ]
  },
  {
   "cell_type": "code",
   "execution_count": 570,
   "id": "a2eace9f",
   "metadata": {},
   "outputs": [
    {
     "name": "stdout",
     "output_type": "stream",
     "text": [
      "Pearson’s first skewness for X is sp1= 0.47\n"
     ]
    }
   ],
   "source": [
    "# Find value - sq1(X)\n",
    "print('Pearson’s first skewness for X is sp1=', find_pearsons_firstskewness(X))"
   ]
  },
  {
   "cell_type": "code",
   "execution_count": 571,
   "id": "cbb3e79c",
   "metadata": {},
   "outputs": [
    {
     "name": "stdout",
     "output_type": "stream",
     "text": [
      "Pearson’s first skewness for Y is sp1= -0.88\n"
     ]
    }
   ],
   "source": [
    "# Find value - sq1(Y)\n",
    "print('Pearson’s first skewness for Y is sp1=', find_pearsons_firstskewness(Y))"
   ]
  },
  {
   "cell_type": "code",
   "execution_count": 572,
   "id": "507d6df3",
   "metadata": {},
   "outputs": [
    {
     "name": "stdout",
     "output_type": "stream",
     "text": [
      "Pearson’s first skewness for Z is sp1= -1.25\n"
     ]
    }
   ],
   "source": [
    "# Find value - sq1(Z)\n",
    "print('Pearson’s first skewness for Z is sp1=', find_pearsons_firstskewness(Z))"
   ]
  },
  {
   "cell_type": "markdown",
   "id": "7d41fa6d",
   "metadata": {},
   "source": [
    "#### Q 13. Write a code for the Pearsons second skewness and find the following values:\n",
    "#### sp2(X), sp2(Y ), sp2(Z) "
   ]
  },
  {
   "cell_type": "markdown",
   "id": "1672d84a",
   "metadata": {},
   "source": [
    "Pearson’s Coefficient of Skewness #2 (Median): <br>\n",
    "Step 1: Subtract the median from the mean: 70.5 – 80 = -9.5. <br>\n",
    "Step 2: Multiply Step 1 by 3: -9.5(3) = -28.5 <br>\n",
    "Step 2: Divide by the standard deviation: -28.5 / 19.33 = -1.47.<br>"
   ]
  },
  {
   "cell_type": "code",
   "execution_count": 595,
   "id": "d88cbf64",
   "metadata": {},
   "outputs": [],
   "source": [
    "# function to find Pearsons second skewness \n",
    "def find_pearsons_secondskewness(data):\n",
    "    res_mean = mean(data)\n",
    "    res_median = median(data) \n",
    "    res_mode = mode(data)\n",
    "    res_stdev = stdev(data)\n",
    "    \n",
    "    # step 1 +   step 2\n",
    "    diff_median_mean = (res_median - res_mean) *3\n",
    "    # step 3\n",
    "    skewnwss = diff_median_mean / res_stdev\n",
    "    \n",
    "    return round(skewness, 2)"
   ]
  },
  {
   "cell_type": "code",
   "execution_count": 596,
   "id": "96c33f2d",
   "metadata": {},
   "outputs": [
    {
     "name": "stdout",
     "output_type": "stream",
     "text": [
      "Pearson’s second skewness for X is sp2= 0.47\n"
     ]
    }
   ],
   "source": [
    "# Find value - sq2(X)\n",
    "print('Pearson’s second skewness for X is sp2=', find_pearsons_firstskewness(X))"
   ]
  },
  {
   "cell_type": "code",
   "execution_count": 575,
   "id": "57709f80",
   "metadata": {},
   "outputs": [
    {
     "name": "stdout",
     "output_type": "stream",
     "text": [
      "Pearson’s second skewness for Y is sp2= -0.88\n"
     ]
    }
   ],
   "source": [
    "# Find value - sq2(Y)\n",
    "print('Pearson’s second skewness for Y is sp2=', find_pearsons_firstskewness(Y))"
   ]
  },
  {
   "cell_type": "code",
   "execution_count": 576,
   "id": "0fa9f5c2",
   "metadata": {},
   "outputs": [
    {
     "name": "stdout",
     "output_type": "stream",
     "text": [
      "Pearson’s second skewness for Z is sp2= -1.25\n"
     ]
    }
   ],
   "source": [
    "# Find value - sq2(Z)\n",
    "print('Pearson’s second skewness for Z is sp2=', find_pearsons_firstskewness(Z))"
   ]
  },
  {
   "cell_type": "markdown",
   "id": "e8af597d",
   "metadata": {},
   "source": [
    "#### Q 14. Write a code for the Groeneveld & Meedens coefficient and find the following values:\n",
    "#### sg(X), sg(Y ), sg(Z) "
   ]
  },
  {
   "cell_type": "markdown",
   "id": "d8f6b89a",
   "metadata": {},
   "source": [
    "Groeneveld and Meeden's coefficient <br>\n",
    "\n",
    "μ - μd / MAD around median μd\n",
    "\n"
   ]
  },
  {
   "cell_type": "code",
   "execution_count": 577,
   "id": "aa011fcf",
   "metadata": {},
   "outputs": [],
   "source": [
    "# function to find Groeneveld & Meedens coefficient\n",
    "def get_groeneveld_meedens_coeff(data):\n",
    "    \n",
    "    #get the median of list\n",
    "    cal_median = median(data)\n",
    "    #get the mean of list\n",
    "    cal_mean = mean(data)\n",
    "    \n",
    "    sum =0\n",
    "    for i in range(len(data)):\n",
    "        dev = np.absolute(data[i] - cal_median)\n",
    "        sum = sum + round(dev,2)\n",
    "    \n",
    "    mad_around_median = sum/len(data)\n",
    "\n",
    "    # Get Groeneveld & Meedens coefficient\n",
    "    result = (cal_mean - cal_median) / mad_around_median\n",
    "    \n",
    "    return round(result, 2)"
   ]
  },
  {
   "cell_type": "code",
   "execution_count": 578,
   "id": "ddf89a46",
   "metadata": {},
   "outputs": [
    {
     "name": "stdout",
     "output_type": "stream",
     "text": [
      "Groeneveld & Meedens coefficient for X is sg= -0.67\n"
     ]
    }
   ],
   "source": [
    "# Find value - sg(X)\n",
    "print('Groeneveld & Meedens coefficient for X is sg=', get_groeneveld_meedens_coeff(X))"
   ]
  },
  {
   "cell_type": "code",
   "execution_count": 579,
   "id": "872a6924",
   "metadata": {},
   "outputs": [
    {
     "name": "stdout",
     "output_type": "stream",
     "text": [
      "Groeneveld & Meedens coefficient for Y is sg= 0.14\n"
     ]
    }
   ],
   "source": [
    "# Find value - sg(Y)\n",
    "print('Groeneveld & Meedens coefficient for Y is sg=', get_groeneveld_meedens_coeff(Y))"
   ]
  },
  {
   "cell_type": "code",
   "execution_count": 580,
   "id": "17b64685",
   "metadata": {},
   "outputs": [
    {
     "name": "stdout",
     "output_type": "stream",
     "text": [
      "Groeneveld & Meedens coefficient for Z is sg= 0.0\n"
     ]
    }
   ],
   "source": [
    "# Find value - sg(Z)\n",
    "print('Groeneveld & Meedens coefficient for Z is sg=', get_groeneveld_meedens_coeff(Z))"
   ]
  },
  {
   "cell_type": "markdown",
   "id": "75a83426",
   "metadata": {},
   "source": [
    "#### Q 15. Write a code for the Pearsons moment coefficient and find the following values:\n",
    "#### sm(X), sm(Y ), sm(Z) \n"
   ]
  },
  {
   "attachments": {
    "Screen%20Shot%202022-02-09%20at%2010.41.15%20PM.png": {
     "image/png": "[encoded data removed]"
    }
   },
   "cell_type": "markdown",
   "id": "6e291aa6",
   "metadata": {},
   "source": [
    "![Screen%20Shot%202022-02-09%20at%2010.41.15%20PM.png](attachment:Screen%20Shot%202022-02-09%20at%2010.41.15%20PM.png)"
   ]
  },
  {
   "cell_type": "code",
   "execution_count": 359,
   "id": "83221361",
   "metadata": {},
   "outputs": [],
   "source": [
    "# function to find Pearsons moment coefficient of skewnwss\n",
    "def get_pearsons_moment_coeff(data):\n",
    "    # find the mean \n",
    "    cal_mean = mean(data)\n",
    "    cal_stddev = stdev(data)\n",
    "    sum =0\n",
    "    for i in range(len(data)):\n",
    "        diff = (data[i] - cal_mean)\n",
    "        sum = sum + round(diff,2)\n",
    "        \n",
    "    # get the cube of sum\n",
    "    dividend = sum **3\n",
    "    divisor = cal_stddev**3 * len(data)\n",
    "    \n",
    "    persons_moment_coff = dividend/divisor\n",
    "    \n",
    "    print('Pearsons moment coefficient (sm) is :', str(persons_moment_coff))\n",
    "    \n",
    "    \n",
    "    "
   ]
  },
  {
   "cell_type": "code",
   "execution_count": 356,
   "id": "88828da6",
   "metadata": {},
   "outputs": [
    {
     "name": "stdout",
     "output_type": "stream",
     "text": [
      "Pearsons moment coefficient (sm) is : 0.0\n"
     ]
    }
   ],
   "source": [
    "# Find value - sm(X)\n",
    "get_pearsons_moment_coeff(X)"
   ]
  },
  {
   "cell_type": "code",
   "execution_count": 357,
   "id": "618c0698",
   "metadata": {},
   "outputs": [
    {
     "name": "stdout",
     "output_type": "stream",
     "text": [
      "Pearsons moment coefficient (sm) is : -5.678149387647118e-07\n"
     ]
    }
   ],
   "source": [
    "# Find value - sm(Y)\n",
    "get_pearsons_moment_coeff(Y)"
   ]
  },
  {
   "cell_type": "code",
   "execution_count": 358,
   "id": "6bde5211",
   "metadata": {},
   "outputs": [
    {
     "name": "stdout",
     "output_type": "stream",
     "text": [
      "Pearsons moment coefficient (sm) is : 0.0\n"
     ]
    }
   ],
   "source": [
    "# Find value - sm(Z)\n",
    "get_pearsons_moment_coeff(Z)"
   ]
  },
  {
   "attachments": {
    "Screen%20Shot%202022-02-09%20at%2010.59.42%20PM.png": {
     "image/png": "[encoded data removed]"
    }
   },
   "cell_type": "markdown",
   "id": "9c7e2237",
   "metadata": {},
   "source": [
    "#### Q 16. Write a code for the Kurtosis (sharpness) and find the following values:\n",
    "#### ku(X), ku(Y ), ku(Z)\n",
    "![Screen%20Shot%202022-02-09%20at%2010.59.42%20PM.png](attachment:Screen%20Shot%202022-02-09%20at%2010.59.42%20PM.png)"
   ]
  },
  {
   "cell_type": "code",
   "execution_count": 581,
   "id": "7b5feb9b",
   "metadata": {},
   "outputs": [],
   "source": [
    "# function to find Kurtosis (sharpness)\n",
    "def get_kurtosis_sharpness(data):\n",
    "    # find the mean \n",
    "    cal_mean = mean(data)\n",
    "    # find the standard deviation \n",
    "    cal_stddev = stdev(data)\n",
    "    sum =0\n",
    "    for ele in range(len(data)):\n",
    "        diff = (data[ele] - cal_mean)\n",
    "        sum = sum + round(diff,2)\n",
    "        \n",
    "    # get the 4th power\n",
    "    dividend = sum **4\n",
    "    divisor = (cal_stddev**4) * len(data)\n",
    "    \n",
    "    kurtosis_sharpness = dividend/divisor\n",
    "    \n",
    "    print('Pearsons moment coefficient (ku) is :', str(kurtosis_sharpness))\n",
    "    "
   ]
  },
  {
   "cell_type": "code",
   "execution_count": 363,
   "id": "67f1234a",
   "metadata": {},
   "outputs": [
    {
     "name": "stdout",
     "output_type": "stream",
     "text": [
      "Pearsons moment coefficient (ku) is : 0.0\n"
     ]
    }
   ],
   "source": [
    "# Find value - ku(X)\n",
    "get_kurtosis_sharpness(X)"
   ]
  },
  {
   "cell_type": "code",
   "execution_count": 364,
   "id": "6961e4c2",
   "metadata": {},
   "outputs": [
    {
     "name": "stdout",
     "output_type": "stream",
     "text": [
      "Pearsons moment coefficient (ku) is : 8.543965824136165e-09\n"
     ]
    }
   ],
   "source": [
    "# Find value - ku(Y)\n",
    "get_kurtosis_sharpness(Y)"
   ]
  },
  {
   "cell_type": "code",
   "execution_count": 365,
   "id": "6c8885ba",
   "metadata": {},
   "outputs": [
    {
     "name": "stdout",
     "output_type": "stream",
     "text": [
      "Pearsons moment coefficient (ku) is : 0.0\n"
     ]
    }
   ],
   "source": [
    "# Find value - ku(Z)\n",
    "get_kurtosis_sharpness(Z)"
   ]
  },
  {
   "attachments": {
    "Screen%20Shot%202022-02-09%20at%2011.12.14%20PM.png": {
     "image/png": "[encoded data removed]"
    }
   },
   "cell_type": "markdown",
   "id": "470c1450",
   "metadata": {},
   "source": [
    "#### Q 17. Write a code for the p degree standardized moment coefficient which takes p and center point as inputs: (X, p, µx). Find the following values:\n",
    "#### µ˜(X, 3, µd),  ˜µd3(X), ˜µ(Y, 3, µd),  ˜µd3(Y ),  µ˜(Z, 3, µd),  ˜µd3(Z) \n",
    "#### µ˜(X, 4, µo), ˜µo4(X), ˜µ(Y, 4, µo), ˜µo4(Y ),  ˜µ(Z, 4, µo),  ˜µo4(Z) \n",
    "![Screen%20Shot%202022-02-09%20at%2011.12.14%20PM.png](attachment:Screen%20Shot%202022-02-09%20at%2011.12.14%20PM.png)"
   ]
  },
  {
   "cell_type": "code",
   "execution_count": 372,
   "id": "16efd4b6",
   "metadata": {},
   "outputs": [],
   "source": [
    "# Generalized function to calculate higher - order coefficient \n",
    "def get_sum(data, value):\n",
    "    sum =0\n",
    "    for ele in range(len(data)):\n",
    "        diff = (data[ele] - value)\n",
    "        sum = sum + round(diff,2)\n",
    "        return sum"
   ]
  },
  {
   "cell_type": "code",
   "execution_count": 377,
   "id": "4c2f576b",
   "metadata": {},
   "outputs": [],
   "source": [
    "# Generalized function to calculate higher - order coefficient \n",
    "# param power = p-degree\n",
    "# param operation: 1 = Mean, 2= Median, 3 = Mode\n",
    "def get_higher_order_coeff(data, power, operation):\n",
    "    \n",
    "    print('Power entered is:', power)\n",
    "    # find the standard deviation \n",
    "    cal_stddev = stdev(data)\n",
    "    \n",
    "    if operation == 1:\n",
    "        print('Operation selected is mean')       \n",
    "        #find the mean \n",
    "        cal_mean = mean(data)\n",
    "        sum = get_sum(data, cal_mean)\n",
    "        \n",
    "        #for ele in range(len(data)):\n",
    "            #diff = (data[ele] - cal_mean)\n",
    "            #sum = sum + round(diff,2)\n",
    "            \n",
    "    elif operation == 2:\n",
    "        print('Operation selected is median')  \n",
    "        # find the median \n",
    "        cal_median = median(data)\n",
    "        sum = get_sum(data, cal_median)\n",
    "        \n",
    "    elif operation == 3:\n",
    "        print('Operation selected is mode')  \n",
    "        # find the mode \n",
    "        cal_mode = mode(data)\n",
    "        sum = get_sum(data, cal_mode)\n",
    "        \n",
    "    else:\n",
    "        print('Please enter correct operation number: 1 = Mean, 2= Median, 3 = Mode')\n",
    "   \n",
    "    # get the nth power\n",
    "    dividend = sum **power\n",
    "    divisor = (cal_stddev**power) * len(data)\n",
    "    \n",
    "    final_result = dividend/divisor\n",
    "    \n",
    "    print('Value µ˜ is :', str(final_result))\n",
    "    "
   ]
  },
  {
   "cell_type": "code",
   "execution_count": 378,
   "id": "4ec60153",
   "metadata": {},
   "outputs": [
    {
     "name": "stdout",
     "output_type": "stream",
     "text": [
      "Power entered is: 3\n",
      "Operation selected is median\n",
      "Value µ˜ is : 0.0\n"
     ]
    }
   ],
   "source": [
    "# Find value of µ˜(X, 3, µd) = ˜µd3(X) =\n",
    "get_higher_order_coeff(X, 3, 2)"
   ]
  },
  {
   "cell_type": "code",
   "execution_count": 379,
   "id": "5afb971d",
   "metadata": {},
   "outputs": [
    {
     "name": "stdout",
     "output_type": "stream",
     "text": [
      "Power entered is: 3\n",
      "Operation selected is median\n",
      "Value µ˜ is : -0.07097686734559233\n"
     ]
    }
   ],
   "source": [
    "# Find value of µ(Y, 3, µd) = ˜µd3(Y ) =\n",
    "get_higher_order_coeff(Y, 3, 2)"
   ]
  },
  {
   "cell_type": "code",
   "execution_count": 380,
   "id": "ab66f142",
   "metadata": {},
   "outputs": [
    {
     "name": "stdout",
     "output_type": "stream",
     "text": [
      "Power entered is: 3\n",
      "Operation selected is median\n",
      "Value µ˜ is : 0.009150969040216454\n"
     ]
    }
   ],
   "source": [
    "# Find value of µ˜(Z, 3, µd) = ˜µd3(Z) =\n",
    "get_higher_order_coeff(Z, 3, 2)"
   ]
  },
  {
   "cell_type": "code",
   "execution_count": 381,
   "id": "0cb2474f",
   "metadata": {},
   "outputs": [
    {
     "name": "stdout",
     "output_type": "stream",
     "text": [
      "Power entered is: 4\n",
      "Operation selected is mode\n",
      "Value µ˜ is : 0.0\n"
     ]
    }
   ],
   "source": [
    "# Find value of µ˜(X, 4, µo) = ˜µo4(X) =\n",
    "get_higher_order_coeff(X, 4, 3)"
   ]
  },
  {
   "cell_type": "code",
   "execution_count": 382,
   "id": "5ba2e9ae",
   "metadata": {},
   "outputs": [
    {
     "name": "stdout",
     "output_type": "stream",
     "text": [
      "Power entered is: 4\n",
      "Operation selected is mode\n",
      "Value µ˜ is : 0.0\n"
     ]
    }
   ],
   "source": [
    "# Find value of µ(Y, 4, µo) = ˜µo4(Y ) =\n",
    "get_higher_order_coeff(Y, 4, 3)"
   ]
  },
  {
   "cell_type": "code",
   "execution_count": 383,
   "id": "17c5a11f",
   "metadata": {},
   "outputs": [
    {
     "name": "stdout",
     "output_type": "stream",
     "text": [
      "Power entered is: 4\n",
      "Operation selected is mode\n",
      "Value µ˜ is : 0.0\n"
     ]
    }
   ],
   "source": [
    "# Find value of µ(Z, 4, µo) = ˜µo4(Z) =\n",
    "get_higher_order_coeff(Z, 4, 3)"
   ]
  },
  {
   "cell_type": "markdown",
   "id": "c6b9a09c",
   "metadata": {},
   "source": [
    "#### Q 18. Write a geometric mean and find the following values:\n",
    "#### µg(X), µg(Y ), µg(Z) "
   ]
  },
  {
   "cell_type": "code",
   "execution_count": 417,
   "id": "ccf2711a",
   "metadata": {},
   "outputs": [],
   "source": [
    "def get_geometric_mean(data):\n",
    "    multiplication = 1\n",
    "    \n",
    "    cnt = len(data)\n",
    "\n",
    "    for ele in data:\n",
    "        multiplication = (multiplication)*(ele)\n",
    "\n",
    "    geometric_mean = (multiplication)**(1/cnt)\n",
    "    print ('The Geometric Mean µg is: ' + str(round(geometric_mean,2)))\n",
    "    print ('The Geometric Mean µg by using library is: ' + str(gmean(data)))    "
   ]
  },
  {
   "cell_type": "code",
   "execution_count": 484,
   "id": "eb0ec267",
   "metadata": {},
   "outputs": [
    {
     "name": "stdout",
     "output_type": "stream",
     "text": [
      "The Geometric Mean µg is: 2.25\n",
      "The Geometric Mean µg by using library is: 2.2461919979205445\n"
     ]
    }
   ],
   "source": [
    "# Find geometric mean of µg(X)\n",
    "get_geometric_mean(X)"
   ]
  },
  {
   "cell_type": "code",
   "execution_count": 419,
   "id": "3b898d52",
   "metadata": {},
   "outputs": [
    {
     "name": "stdout",
     "output_type": "stream",
     "text": [
      "The Geometric Mean µg is: 1.82\n",
      "The Geometric Mean µg by using library is: 1.8171205928321397\n"
     ]
    }
   ],
   "source": [
    "# Find geometric mean of µg(Y)\n",
    "get_geometric_mean(Y)"
   ]
  },
  {
   "cell_type": "code",
   "execution_count": 420,
   "id": "d254cf46",
   "metadata": {},
   "outputs": [
    {
     "name": "stdout",
     "output_type": "stream",
     "text": [
      "The Geometric Mean µg is: 2.21\n",
      "The Geometric Mean µg by using library is: 2.213363839400643\n"
     ]
    }
   ],
   "source": [
    "# Find geometric mean of µg(Z)\n",
    "get_geometric_mean(Z)"
   ]
  },
  {
   "cell_type": "markdown",
   "id": "8c7f564f",
   "metadata": {},
   "source": [
    "#### Q 19. Write a harmonic mean and find the following values:\n",
    "#### µh(X), µh(Y ), µh(Z) "
   ]
  },
  {
   "cell_type": "code",
   "execution_count": 590,
   "id": "28346211",
   "metadata": {},
   "outputs": [],
   "source": [
    "# Function to find harmonic mean\n",
    "def get_harmonic_mean(lst):\n",
    "    # Harmonic Mean of List\n",
    "    sum = 0\n",
    "    for ele in lst:\n",
    "        sum += 1 / ele    \n",
    "        harmonic_mean_res = len(lst)/sum\n",
    "  \n",
    "    print(\"The harmonic mean (µh) of list is : \" + str(round(harmonic_mean_res, 2)))\n",
    "    #har_mean = harmonic_mean(lst)\n",
    "    #print(\"The harmonic mean (µh) of list is using library function: \" + str(round(har_mean, 2)))\n",
    "    "
   ]
  },
  {
   "cell_type": "code",
   "execution_count": 591,
   "id": "01d9fed3",
   "metadata": {},
   "outputs": [
    {
     "name": "stdout",
     "output_type": "stream",
     "text": [
      "The harmonic mean (µh) of list is : 1.96\n"
     ]
    }
   ],
   "source": [
    "# Find harmonic mean of µh(X)\n",
    "get_harmonic_mean(X)"
   ]
  },
  {
   "cell_type": "code",
   "execution_count": 592,
   "id": "1f671b6a",
   "metadata": {},
   "outputs": [
    {
     "name": "stdout",
     "output_type": "stream",
     "text": [
      "The harmonic mean (µh) of list is : 1.53\n"
     ]
    }
   ],
   "source": [
    "# Find harmonic mean of µh(Y)\n",
    "get_harmonic_mean(Y)"
   ]
  },
  {
   "cell_type": "code",
   "execution_count": 415,
   "id": "d9151c6d",
   "metadata": {},
   "outputs": [
    {
     "name": "stdout",
     "output_type": "stream",
     "text": [
      "The harmonic mean (µh) of list is : 1.92\n",
      "The harmonic mean (µh) of list is using library function: 1.92\n"
     ]
    }
   ],
   "source": [
    "# Find harmonic mean of µh(Z)\n",
    "get_harmonic_mean(Z)"
   ]
  },
  {
   "attachments": {
    "Screen%20Shot%202022-02-10%20at%2012.04.04%20AM.png": {
     "image/png": "[encoded data removed]"
    }
   },
   "cell_type": "markdown",
   "id": "344fe7d0",
   "metadata": {},
   "source": [
    "#### Q 20. Write a arithmetic-geometric mean and find the following values:\n",
    "#### µag(X), µag(Y ), µag(Z) \n",
    "![Screen%20Shot%202022-02-10%20at%2012.04.04%20AM.png](attachment:Screen%20Shot%202022-02-10%20at%2012.04.04%20AM.png)"
   ]
  },
  {
   "cell_type": "code",
   "execution_count": 454,
   "id": "ad22bf4d",
   "metadata": {},
   "outputs": [],
   "source": [
    "# Function to find arithmetic geometric mean\n",
    "def get_arithmetic_geometric_mean(lst):\n",
    "    \n",
    "    # Get the arithmetic mean\n",
    "    arithmetic_mean = mean(lst)\n",
    "    geometric_mean = gmean(lst)\n",
    "    #mean_val = sqrt(arithmetic_mean*geometric_mean)\n",
    "    \n",
    "    # check for arithmetic and geometric mean equality\n",
    "    while arithmetic_mean != geometric_mean:\n",
    "        # considering only 5 digit after decimal because of it was taking too much time to execute \n",
    "        old_arithmetic_mean = round(arithmetic_mean, 5)\n",
    "        \n",
    "        arithmetic_mean = round(((arithmetic_mean + geometric_mean) /2), 5)\n",
    "        \n",
    "        geometric_mean = round(math.sqrt(old_arithmetic_mean*geometric_mean), 5)\n",
    "        \n",
    "    print(\"The arithmetic arithmetic geometric mean(µag) of list is : \" + str(round(arithmetic_mean, 5)))\n",
    "    #print(\"The arithmetic geometric mean(µag) of list is : \" + str(round(geometric_mean, 5)))\n",
    "   "
   ]
  },
  {
   "cell_type": "code",
   "execution_count": 455,
   "id": "30b131ef",
   "metadata": {},
   "outputs": [
    {
     "name": "stdout",
     "output_type": "stream",
     "text": [
      "The arithmetic arithmetic geometric mean(µag) of list is : 2.3714\n"
     ]
    }
   ],
   "source": [
    "# Find arithmetic geometric mean of µag(X)\n",
    "get_arithmetic_geometric_mean(X)"
   ]
  },
  {
   "cell_type": "code",
   "execution_count": 456,
   "id": "5cd00454",
   "metadata": {},
   "outputs": [
    {
     "name": "stdout",
     "output_type": "stream",
     "text": [
      "The arithmetic arithmetic geometric mean(µag) of list is : 1.98805\n"
     ]
    }
   ],
   "source": [
    "# Find arithmetic geometric mean of µag(Y)\n",
    "get_arithmetic_geometric_mean(Y)"
   ]
  },
  {
   "cell_type": "code",
   "execution_count": 457,
   "id": "5aa04d9a",
   "metadata": {},
   "outputs": [
    {
     "name": "stdout",
     "output_type": "stream",
     "text": [
      "The arithmetic arithmetic geometric mean(µag) of list is : 2.3545\n"
     ]
    }
   ],
   "source": [
    "# Find arithmetic geometric mean of µag(Z)\n",
    "get_arithmetic_geometric_mean(Z)"
   ]
  },
  {
   "cell_type": "markdown",
   "id": "7a8fec91",
   "metadata": {},
   "source": [
    "###                                                          Answers\n",
    "####          CS 676 Algorithms for Data Science Homework 1: Statistical Parameters\n",
    "\n",
    "Consider the following three data sets for questions Q 1 ∼ Q 20. <br>\n",
    "X = {3, 1, 2, 3, 1, 4, 3, 3}\tY = {1, 4, 3, 1, 1, 3}\tZ = {3, 3, 1, 4, 2, 1, 4, 2}\n",
    " \n",
    "\n",
    "Q 1.Write a code for the mean and find the following values: <br>\n",
    "µ(X) = 2.5\t<br>\n",
    "µ(Y ) = 2.17\t<br>\n",
    "µ(Z) = 2.5 <br>\n",
    "\n",
    "Q 2.Write a code for the median and find the following values: <br>\n",
    "µd(X) = 3\t<br>\n",
    "µd(Y) = 2   <br>\n",
    "µd(Z) = 2.5 <br>\n",
    "          \n",
    "Q 3.Write a code for the mode and find the following values:<br>\n",
    "µo(X) = 3\t<br>\n",
    "µo(Y) = 1\t<br>\n",
    "µo(Z) = 1   <br>\n",
    "\n",
    "Q 4.Write a code for the variance and find the following values: <br>\n",
    "σ2(X) = 1\t    <br>\n",
    "σ2(Y ) = 1.47   <br>     \n",
    "σ2(Z) = 1.25    <br>\n",
    "s2(X) = 1.14\t<br>\n",
    "s2(Y ) = 1.76\t<br>\n",
    "s2(Z) = 1.42    <br>\n",
    "\n",
    "Q 5.Write a code for the standard deviation and find the following values: <br>\n",
    "σ(X) = 1\t     <br>\n",
    "σ(Y ) = 1.21\t <br>\n",
    "σ(Z) = 1.11      <br>\n",
    "s(X) = 1.06\t     <br>\n",
    "s(Y ) = 1.32\t <br>\n",
    "s(Z) = 1.19\n",
    "\n",
    "Q 6.Write a code for the MAD around mean, µ and find the following values: <br>\n",
    "δ(X) = 0.87\t   <br>\n",
    "δ(Y ) = 1.16   <br>      \n",
    "δ(Z) = 1       <br>\n",
    "\n",
    "Q 7.Write a code for the MAD around median, µd and find the following values: <br>\n",
    "δd(X) = 0.75\t <br>\n",
    "δd(Y ) = 0.17\t <br>\n",
    "δd(Z) = 1        <br>\n",
    "\n",
    "Q 8.Write a code for the MAD around mode, µo and find the following values: <br>\n",
    "δo(X) = 0.75\t <br>\n",
    "δo(Y ) = 1.17\t <br>\n",
    "δo(Z) =1.5       <br>\n",
    "\n",
    "Q 9.Write a code for the generallized MPAD, the mean of pth power absolute deviation which takes p and center point as inputs: MPAD(X, p, µx). Find the following values: <br>\n",
    "\n",
    "MPAD(X, 2, µd) = 2.8961453440886216e+99     <br>\n",
    "MPAD(Y, 2, µd) = 1805468994908004.2         <br>\n",
    "MPAD(Z, 2, µd) = 3.774114509545115e+73      <br>\n",
    "MPAD(X, 3, µ) = 3.774114509545115e+73      <br>\n",
    "MPAD(Y, 3, µ) = 1.1570089778300868e+130     <br>\n",
    "MPAD(Z, 3, µ) = 3.4761339372101065e+201     <br>         \t\n",
    "\t\t\n",
    "Q 10.Write a code for the interquartile range and find the following values:  <br>\n",
    "IQR(X)  = 1.25   <br>\n",
    "IQR(Y ) = 2.5    <br>\n",
    "IQR(Z) = 1.5\n",
    "\n",
    "Q 11.Write a code for the quartile based skewness and find the following values: <br>\n",
    "sq(X) = -1.0\t<br>\n",
    "sq(Y ) = 0.0   <br>\n",
    "sq(Z) = 0.0\n",
    "\n",
    "Q 12.Write a code for the Pearsons first skewness and find the following values: <br>\n",
    "sp1(X) = 0.47\t <br>\n",
    "sp1(Y ) = -0.88\t <br>\n",
    "sp1(Z) = - 1.25\n",
    "\n",
    "Q 13.Write a code for the Pearsons second skewness and find the following values: <br>\n",
    "sp2(X) = 0.47\t <br>\n",
    "sp2(Y ) = -0.88\t <br>\n",
    "sp2(Z) = -1.25\n",
    "\n",
    "Q 14.Write a code for the Groeneveld & Meedens coefficient and find the following values: <br>\n",
    "sg(X) = -0.67\t <br>\n",
    "sg(Y ) = 0.14\t <br>\n",
    "sg(Z) = 0.0\n",
    "\n",
    "Q 15.Write a code for the Pearsons moment coefficient and find the following values: <br>\n",
    "sm(X) =0.0\t                     <br>\n",
    "sm(Y ) = -5.678149387647118e-07  <br>\n",
    "sm(Z) = 0.0\n",
    "\n",
    "Q 16.Write a code for the Kurtosis (sharpness) and find the following values:  <br>\n",
    "ku(X) = 0.0\t                    <br>\n",
    "ku(Y ) = 8.543965824136165e-09  <br>\n",
    "ku(Z) = 0.0\n",
    "\n",
    "Q 17.Write a code for the p degree standardized moment coefficient which takes p and center point as inputs: (X, p, µx). Find the following values: <br>\n",
    "µ˜(X, 3, µd) = ˜µd3(X) = 0.0  <br>\n",
    "µ(Y, 3, µd) = ˜µd3(Y ) = -0.07097686734559233  <br>\n",
    "µ˜(Z, 3, µd) = ˜µd3(Z) = 0.009150969040216454  <br>\n",
    "µ˜(X, 4, µo) = ˜µo4(X) = 0.0  <br>\n",
    "µ(Y, 4, µo) = ˜µo4(Y ) = 0.0  <br>\n",
    "µ(Z, 4, µo) = ˜µo4(Z) = 0.0 <br>\n",
    "\n",
    "\n",
    "Q 18.Write a geometric mean and find the following values:  <br>\n",
    "µg(X) = 2.25\t <br>\n",
    "µg(Y ) = 1.82    <br>\n",
    "µg(Z) = 2.21\n",
    "\n",
    "Q 19.Write a harmonic mean and find the following values:  <br>\n",
    "µh(X) = 1.96   <br>\n",
    "µh(Y ) = 1.53  <br>\n",
    "µh(Z) = 1.92\n",
    "\n",
    "Q 20.Write a arithmetic-geometric mean and find the following values:  <br>\n",
    "µag(X) = 2.3714   <br>\n",
    "µag(Y ) = 1.98805 <br>\n",
    "µag(Z) = 2.3545\n"
   ]
  },
  {
   "cell_type": "code",
   "execution_count": null,
   "id": "5558000c",
   "metadata": {},
   "outputs": [],
   "source": []
  }
 ],
 "metadata": {
  "kernelspec": {
   "display_name": "Python 3 (ipykernel)",
   "language": "python",
   "name": "python3"
  },
  "language_info": {
   "codemirror_mode": {
    "name": "ipython",
    "version": 3
   },
   "file_extension": ".py",
   "mimetype": "text/x-python",
   "name": "python",
   "nbconvert_exporter": "python",
   "pygments_lexer": "ipython3",
   "version": "3.8.12"
  }
 },
 "nbformat": 4,
 "nbformat_minor": 5
}
